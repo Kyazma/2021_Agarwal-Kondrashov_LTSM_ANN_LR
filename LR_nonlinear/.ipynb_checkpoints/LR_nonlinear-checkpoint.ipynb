{
 "cells": [
  {
   "cell_type": "code",
   "execution_count": 1,
   "metadata": {},
   "outputs": [
    {
     "name": "stdout",
     "output_type": "stream",
     "text": [
      "Number of cores: 24\n"
     ]
    }
   ],
   "source": [
    "##################################################\n",
    "####### Method: LR with nonlinear terms ##########\n",
    "##################################################\n",
    "import numpy as np\n",
    "import matplotlib.pyplot as plt\n",
    "import math\n",
    "import json\n",
    "from netCDF4 import Dataset\n",
    "from functionsLR_nonlinear import *\n",
    "from datetime import datetime\n",
    "from itertools import combinations \n",
    "from sklearn.preprocessing import PolynomialFeatures\n",
    "import multiprocessing\n",
    "from joblib import Parallel, delayed\n",
    "from tqdm import tqdm\n",
    "# np.random.seed(42)\n",
    "\n",
    "num_cores = multiprocessing.cpu_count()\n",
    "print('Number of cores:',num_cores)\n",
    "\n",
    "# Define other parameters of the problem\n",
    "n_pc = 150         # number of PCs\n",
    "n_record = 50000   # total records\n",
    "n_maxtrain = 40000 # maximum possible length of training data\n",
    "n_test = n_record - n_maxtrain # length of the test data\n",
    "n_train = n_maxtrain\n",
    "test0_idx = 40000   # test data start index\n",
    "dt = 10             # temporal resolution\n",
    "\n",
    "#### Load the pcs ####\n",
    "f = 'psi1_DG_0_500K_100days_filtered_150PCs.dat'\n",
    "pcs = dlmread(f, n_record)\n",
    "pcs = center(pcs)\n",
    "# get the test dataset\n",
    "test_data = pcs[test0_idx:test0_idx+n_test, :n_pc]\n",
    " \n",
    "#### Load the EOFs ####\n",
    "nx = 513; ny=513\n",
    "eoffile = os.getcwd() + '/../psi1_DG_0_500K_100days_filtered_150EOFs.nc'\n",
    "fid = Dataset(eoffile,'r')\n",
    "eofs = fid.variables['EOFs'][:]\n",
    "eofs = eofs.reshape((n_pc, nx*ny))"
   ]
  },
  {
   "cell_type": "code",
   "execution_count": 2,
   "metadata": {},
   "outputs": [],
   "source": [
    "# compute the training dataset\n",
    "x_train, y_train, scaler = training4tendency(pcs, n_pc, n_train, dt, 'standard_top_pc')"
   ]
  },
  {
   "cell_type": "code",
   "execution_count": 4,
   "metadata": {},
   "outputs": [],
   "source": [
    "#######################################################\n",
    "################# Linear Regression  ##################\n",
    "#######################################################\n",
    "degree = 1\n",
    "[model_deg1, reg_res_deg1, r2_score_deg1] = linear_regression(x_train,y_train,degree,False)\n",
    "degree = 2\n",
    "[model_deg2, reg_res_deg2, r2_score_deg2] = linear_regression(x_train,y_train,degree,False)"
   ]
  },
  {
   "cell_type": "code",
   "execution_count": 10,
   "metadata": {},
   "outputs": [
    {
     "data": {
      "image/png": "[encoded data removed]",
      "text/plain": [
       "<Figure size 432x288 with 1 Axes>"
      ]
     },
     "metadata": {
      "needs_background": "light"
     },
     "output_type": "display_data"
    }
   ],
   "source": [
    "# Analyze rsquare values of the PCs for the two degrees of LR\n",
    "plt.scatter(np.arange(1,n_pc+1,1), r2_score_deg1, color='b', alpha=0.4, label='Degree-1')\n",
    "plt.scatter(np.arange(1,n_pc+1,1), r2_score_deg2, color='r', alpha=0.4, label='Degree-2')\n",
    "plt.xlabel('PCs')\n",
    "plt.ylabel('R-square')\n",
    "plt.grid()\n",
    "plt.legend()\n",
    "plt.savefig('Rsquare_Psi1_LR_degree=1and2_npc=150_ntrain=400K.png')\n",
    "plt.show()"
   ]
  },
  {
   "cell_type": "code",
   "execution_count": 15,
   "metadata": {},
   "outputs": [],
   "source": [
    "#### compute rsquare values ###\n",
    "def rsquare(model,predictor,x,y,n_pc):\n",
    "    r2_score = np.zeros(n_pc)\n",
    "    # Residual sum of squares\n",
    "    rss = np.sum((y - model.predict(predictor))**2, axis=0)\n",
    "    # Total sum of squares\n",
    "    tss = np.sum((y - np.mean(y, axis=0))**2, axis=0)\n",
    "    # R2 score = 1 - rss/tss \n",
    "    r2_score = 1 - rss/tss\n",
    "    \n",
    "    return r2_score"
   ]
  },
  {
   "cell_type": "code",
   "execution_count": 16,
   "metadata": {},
   "outputs": [
    {
     "ename": "AttributeError",
     "evalue": "'LinearRegression' object has no attribute 'coef_'",
     "output_type": "error",
     "traceback": [
      "\u001b[0;31m---------------------------------------------------------------------------\u001b[0m",
      "\u001b[0;31mAttributeError\u001b[0m                            Traceback (most recent call last)",
      "\u001b[0;32m<ipython-input-16-04a2a1b649e1>\u001b[0m in \u001b[0;36m<module>\u001b[0;34m\u001b[0m\n\u001b[0;32m----> 1\u001b[0;31m \u001b[0mrquare_degree2\u001b[0m \u001b[0;34m=\u001b[0m \u001b[0mrsquare\u001b[0m\u001b[0;34m(\u001b[0m\u001b[0mlinregmodel\u001b[0m\u001b[0;34m,\u001b[0m\u001b[0mpredictor\u001b[0m\u001b[0;34m,\u001b[0m\u001b[0mx_train\u001b[0m\u001b[0;34m,\u001b[0m\u001b[0my_train\u001b[0m\u001b[0;34m,\u001b[0m\u001b[0mn_pc\u001b[0m\u001b[0;34m)\u001b[0m\u001b[0;34m\u001b[0m\u001b[0;34m\u001b[0m\u001b[0m\n\u001b[0m",
      "\u001b[0;32m<ipython-input-15-73934cd2b5ae>\u001b[0m in \u001b[0;36mrsquare\u001b[0;34m(model, predictor, x, y, n_pc)\u001b[0m\n\u001b[1;32m      3\u001b[0m     \u001b[0mr2_score\u001b[0m \u001b[0;34m=\u001b[0m \u001b[0mnp\u001b[0m\u001b[0;34m.\u001b[0m\u001b[0mzeros\u001b[0m\u001b[0;34m(\u001b[0m\u001b[0mn_pc\u001b[0m\u001b[0;34m)\u001b[0m\u001b[0;34m\u001b[0m\u001b[0;34m\u001b[0m\u001b[0m\n\u001b[1;32m      4\u001b[0m     \u001b[0;31m# Residual sum of squares\u001b[0m\u001b[0;34m\u001b[0m\u001b[0;34m\u001b[0m\u001b[0;34m\u001b[0m\u001b[0m\n\u001b[0;32m----> 5\u001b[0;31m     \u001b[0mrss\u001b[0m \u001b[0;34m=\u001b[0m \u001b[0mnp\u001b[0m\u001b[0;34m.\u001b[0m\u001b[0msum\u001b[0m\u001b[0;34m(\u001b[0m\u001b[0;34m(\u001b[0m\u001b[0my\u001b[0m \u001b[0;34m-\u001b[0m \u001b[0mmodel\u001b[0m\u001b[0;34m.\u001b[0m\u001b[0mpredict\u001b[0m\u001b[0;34m(\u001b[0m\u001b[0mpredictor\u001b[0m\u001b[0;34m)\u001b[0m\u001b[0;34m)\u001b[0m\u001b[0;34m**\u001b[0m\u001b[0;36m2\u001b[0m\u001b[0;34m,\u001b[0m \u001b[0maxis\u001b[0m\u001b[0;34m=\u001b[0m\u001b[0;36m0\u001b[0m\u001b[0;34m)\u001b[0m\u001b[0;34m\u001b[0m\u001b[0;34m\u001b[0m\u001b[0m\n\u001b[0m\u001b[1;32m      6\u001b[0m     \u001b[0;31m# Total sum of squares\u001b[0m\u001b[0;34m\u001b[0m\u001b[0;34m\u001b[0m\u001b[0;34m\u001b[0m\u001b[0m\n\u001b[1;32m      7\u001b[0m     \u001b[0mtss\u001b[0m \u001b[0;34m=\u001b[0m \u001b[0mnp\u001b[0m\u001b[0;34m.\u001b[0m\u001b[0msum\u001b[0m\u001b[0;34m(\u001b[0m\u001b[0;34m(\u001b[0m\u001b[0my\u001b[0m \u001b[0;34m-\u001b[0m \u001b[0mnp\u001b[0m\u001b[0;34m.\u001b[0m\u001b[0mmean\u001b[0m\u001b[0;34m(\u001b[0m\u001b[0my\u001b[0m\u001b[0;34m,\u001b[0m \u001b[0maxis\u001b[0m\u001b[0;34m=\u001b[0m\u001b[0;36m0\u001b[0m\u001b[0;34m)\u001b[0m\u001b[0;34m)\u001b[0m\u001b[0;34m**\u001b[0m\u001b[0;36m2\u001b[0m\u001b[0;34m,\u001b[0m \u001b[0maxis\u001b[0m\u001b[0;34m=\u001b[0m\u001b[0;36m0\u001b[0m\u001b[0;34m)\u001b[0m\u001b[0;34m\u001b[0m\u001b[0;34m\u001b[0m\u001b[0m\n",
      "\u001b[0;32m~/anaconda3/envs/tf-gpu/lib/python3.6/site-packages/sklearn/linear_model/_base.py\u001b[0m in \u001b[0;36mpredict\u001b[0;34m(self, X)\u001b[0m\n\u001b[1;32m    234\u001b[0m             \u001b[0mReturns\u001b[0m \u001b[0mpredicted\u001b[0m \u001b[0mvalues\u001b[0m\u001b[0;34m.\u001b[0m\u001b[0;34m\u001b[0m\u001b[0;34m\u001b[0m\u001b[0m\n\u001b[1;32m    235\u001b[0m         \"\"\"\n\u001b[0;32m--> 236\u001b[0;31m         \u001b[0;32mreturn\u001b[0m \u001b[0mself\u001b[0m\u001b[0;34m.\u001b[0m\u001b[0m_decision_function\u001b[0m\u001b[0;34m(\u001b[0m\u001b[0mX\u001b[0m\u001b[0;34m)\u001b[0m\u001b[0;34m\u001b[0m\u001b[0;34m\u001b[0m\u001b[0m\n\u001b[0m\u001b[1;32m    237\u001b[0m \u001b[0;34m\u001b[0m\u001b[0m\n\u001b[1;32m    238\u001b[0m     \u001b[0m_preprocess_data\u001b[0m \u001b[0;34m=\u001b[0m \u001b[0mstaticmethod\u001b[0m\u001b[0;34m(\u001b[0m\u001b[0m_preprocess_data\u001b[0m\u001b[0;34m)\u001b[0m\u001b[0;34m\u001b[0m\u001b[0;34m\u001b[0m\u001b[0m\n",
      "\u001b[0;32m~/anaconda3/envs/tf-gpu/lib/python3.6/site-packages/sklearn/linear_model/_base.py\u001b[0m in \u001b[0;36m_decision_function\u001b[0;34m(self, X)\u001b[0m\n\u001b[1;32m    217\u001b[0m \u001b[0;34m\u001b[0m\u001b[0m\n\u001b[1;32m    218\u001b[0m         \u001b[0mX\u001b[0m \u001b[0;34m=\u001b[0m \u001b[0mcheck_array\u001b[0m\u001b[0;34m(\u001b[0m\u001b[0mX\u001b[0m\u001b[0;34m,\u001b[0m \u001b[0maccept_sparse\u001b[0m\u001b[0;34m=\u001b[0m\u001b[0;34m[\u001b[0m\u001b[0;34m'csr'\u001b[0m\u001b[0;34m,\u001b[0m \u001b[0;34m'csc'\u001b[0m\u001b[0;34m,\u001b[0m \u001b[0;34m'coo'\u001b[0m\u001b[0;34m]\u001b[0m\u001b[0;34m)\u001b[0m\u001b[0;34m\u001b[0m\u001b[0;34m\u001b[0m\u001b[0m\n\u001b[0;32m--> 219\u001b[0;31m         return safe_sparse_dot(X, self.coef_.T,\n\u001b[0m\u001b[1;32m    220\u001b[0m                                dense_output=True) + self.intercept_\n\u001b[1;32m    221\u001b[0m \u001b[0;34m\u001b[0m\u001b[0m\n",
      "\u001b[0;31mAttributeError\u001b[0m: 'LinearRegression' object has no attribute 'coef_'"
     ]
    }
   ],
   "source": [
    "rquare_degree2 = rsquare(linregmodel,predictor,x_train,y_train,n_pc)"
   ]
  },
  {
   "cell_type": "code",
   "execution_count": null,
   "metadata": {},
   "outputs": [],
   "source": [
    "####################################################################\n",
    "#################### Short term forecasts ##########################\n",
    "####################################################################\n",
    "n_maxlead = 10  # maximum lead time steps for forecasts\n",
    "n_ic = int((n_test - n_maxlead))    # Number of initial conditions \n",
    "y_pred_degree2 = np.zeros([n_ic, n_maxlead, n_pc])\n",
    "\n",
    "start = datetime.now()\n",
    "for k in range(n_ic):\n",
    "    #### Start Forecasts ####\n",
    "    x_start = test_data[k,:]\n",
    "    \n",
    "    y_pred_degree2[k,:,:] = forecast(n_maxlead,n_pc,x_start,\n",
    "                             dt,linregmodel,poly,scaler)\n",
    "\n",
    "print('Prediction time:', datetime.now()-start)\n",
    "print('Number of initial conditions:',n_ic)\n",
    "print('Length of each forecast:',n_maxlead)"
   ]
  },
  {
   "cell_type": "code",
   "execution_count": 8,
   "metadata": {},
   "outputs": [],
   "source": [
    "def RMSE(k,y_true,y_pred,eofs,n_maxlead):\n",
    "    psi1_true = y_true[k+1:k+n_maxlead+1,:].dot(eofs)\n",
    "    psi1_pred = y_pred[k,:,:].dot(eofs)\n",
    "    return np.sqrt(np.mean((psi1_true - psi1_pred)**2, axis=1))"
   ]
  },
  {
   "cell_type": "code",
   "execution_count": 9,
   "metadata": {},
   "outputs": [],
   "source": [
    "####################################################################\n",
    "################# RMSE on the physical space #######################\n",
    "###### Use each data point of the test dataset as an IC ############\n",
    "####################################################################\n",
    "# Project the modelled PCs onto the EOFs and calculate mean RMSE\n",
    "rmse_degree2 = np.zeros((n_ic, n_maxlead))\n",
    "\n",
    "# start a parallel pool and implement thread parallelism\n",
    "if __name__ == \"__main__\":\n",
    "    rmse_degree2 = Parallel(n_jobs=num_cores, prefer=\"threads\")(delayed(RMSE)(i,test_data,y_pred_degree2,eofs,n_maxlead) for i in tqdm(range(n_ic)))"
   ]
  },
  {
   "cell_type": "code",
   "execution_count": 10,
   "metadata": {},
   "outputs": [],
   "source": [
    "meanRMSE_degree2 = np.mean(rmse_degree2, axis=0)"
   ]
  },
  {
   "cell_type": "code",
   "execution_count": 11,
   "metadata": {},
   "outputs": [],
   "source": [
    "np.save('RMSE_Psi1_100days_predictions_LR_degree=2_npc=150_nic=9990_ntrain=400K_ntest=100K',meanRMSE_degree2)"
   ]
  },
  {
   "cell_type": "code",
   "execution_count": null,
   "metadata": {},
   "outputs": [],
   "source": []
  }
 ],
 "metadata": {
  "kernelspec": {
   "display_name": "Python [conda env:tf-gpu]",
   "language": "python",
   "name": "conda-env-tf-gpu-py"
  },
  "language_info": {
   "codemirror_mode": {
    "name": "ipython",
    "version": 3
   },
   "file_extension": ".py",
   "mimetype": "text/x-python",
   "name": "python",
   "nbconvert_exporter": "python",
   "pygments_lexer": "ipython3",
   "version": "3.6.12"
  }
 },
 "nbformat": 4,
 "nbformat_minor": 2
}
